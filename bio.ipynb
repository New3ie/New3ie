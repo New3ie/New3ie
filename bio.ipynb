{
  "nbformat": 4,
  "nbformat_minor": 5,
  "metadata": {
    "colab": {
      "name": "bio.ipynb",
      "provenance": [],
      "include_colab_link": true
    },
    "kernelspec": {
      "display_name": "Python 3",
      "language": "python",
      "name": "python3"
    },
    "language_info": {
      "codemirror_mode": {
        "name": "ipython",
        "version": 3
      },
      "file_extension": ".py",
      "mimetype": "text/x-python",
      "name": "python",
      "nbconvert_exporter": "python",
      "pygments_lexer": "ipython3",
      "version": "3.9.5"
    }
  },
  "cells": [
    {
      "cell_type": "markdown",
      "metadata": {
        "id": "view-in-github",
        "colab_type": "text"
      },
      "source": [
        "<a href=\"https://colab.research.google.com/github/New3ie/New3ie/blob/main/bio.ipynb\" target=\"_parent\"><img src=\"https://colab.research.google.com/assets/colab-badge.svg\" alt=\"Open In Colab\"/></a>"
      ]
    },
    {
      "cell_type": "code",
      "metadata": {
        "colab": {
          "base_uri": "https://localhost:8080/"
        },
        "id": "DLAegEJc6e95",
        "outputId": "e30743ae-5e5c-457a-8ecb-33023f3dc53a"
      },
      "source": [
        "from google.colab import drive\n",
        "drive.mount('/content/gdrive')"
      ],
      "id": "DLAegEJc6e95",
      "execution_count": null,
      "outputs": [
        {
          "output_type": "stream",
          "text": [
            "Mounted at /content/gdrive\n"
          ],
          "name": "stdout"
        }
      ]
    },
    {
      "cell_type": "code",
      "metadata": {
        "colab": {
          "base_uri": "https://localhost:8080/"
        },
        "id": "72710593",
        "cellView": "form",
        "outputId": "7d0be6f1-5ec7-4089-c1c3-f492e7a9685b"
      },
      "source": [
        "#@title user\n",
        "import os \n",
        "from IPython.display import clear_output\n",
        "username = 'Noo3' #@param {type:'string'}\n",
        "password = 'root' #@param {type:'string'}            \n",
        "print('Membuat user...')\n",
        "# Membuat user\n",
        "os.system(f'useradd -m {username}')                  \n",
        "# Menambahkan user ke sudo                           \n",
        "os.system(f'adduser {username} sudo')                \n",
        "# Set password user ke root\n",
        "os.system(f\"echo '{username}:{password}' | sudo chpasswd\")\n",
        "                                                     \n",
        "# Merubah default shell dr sh ke bash                \n",
        "os.system(\"sed -i 's/\\/bin\\/sh/\\/bin\\/bash/g' /etc/passwd\")\n",
        "clear_output()\n",
        "print('User dibuat') \n",
        "#@title\n",
        "#@title *ssh*\n",
        " \n",
        "! pip install colab_ssh --upgrade &&> /dev/null\n",
        " \n",
        "Ngrok = True #@param {type:'boolean'}\n",
        "Agro = False  #@param {type:'boolean'}\n",
        "ngrokToken = '1tZw6kqyAfG2CronDDcj8ovMUD6_6tuREBPa8dJ2K7bqfNPZP' #@param {type:'string'}\n",
        " \n",
        " \n",
        "def runNgrok():\n",
        "    print(\"Select your ngrok region :\")     \n",
        "    print(\"us - United States (Ohio)\")\n",
        "    print(\"eu - Europe (Frankfurt)\")\n",
        "    print(\"ap - Asia/Pacific (Singapore)\") \n",
        "    print(\"au - Australia (Sydney)\")   \n",
        "    print(\"sa - South America (Sao Paulo)\")\n",
        "    print(\"jp - Japan (Tokyo)\") \n",
        "    print(\"in - Inda (Mumbai)\")\n",
        "    negara = input()\n",
        "    clear_output()\n",
        "    from colab_ssh import launch_ssh\n",
        "    launch_ssh(ngrokToken, password, region=negara)\n",
        "    clear_output()\n",
        "    print('ssh '+username, end='@')\n",
        "    ! curl -s http://localhost:4040/api/tunnels | python3 -c \\\n",
        "            \"import sys, json; print(json.load(sys.stdin)['tunnels'][0]['public_url'][6:].replace(':', ' -p '))\"\n",
        " \n",
        "    \n",
        "            \n",
        "def runAgro():\n",
        "    from colab_ssh import launch_ssh_cloudflared\n",
        "    launch_ssh_cloudflared(password=password)\n",
        " \n",
        " \n",
        "try:\n",
        "    if username:\n",
        "        pass\n",
        "    elif password:\n",
        "        pass\n",
        "except NameError:\n",
        "    print(\"No user found using username and password as 'root'\")\n",
        "    username='root'\n",
        "    password='root'\n",
        " \n",
        " \n",
        "if Agro and Ngrok:\n",
        "    print(\"You can't do that\")\n",
        "    print(\"Select only one of them\")\n",
        "elif Agro:\n",
        "    runAgro()\n",
        "elif Ngrok:\n",
        "    if ngrokToken == \"\":\n",
        "        print(\"No ngrokToken Found, Please enter it\")\n",
        "    else:\n",
        "               \n",
        "        runNgrok()\n",
        "else:\n",
        "    print(\"Select one of them\")\n",
        " \n",
        "try:\n",
        "    import time\n",
        "    while True:\n",
        "        time.sleep(300)\n",
        "except:\n",
        "    pass"
      ],
      "id": "72710593",
      "execution_count": 26,
      "outputs": [
        {
          "output_type": "stream",
          "text": [
            "ssh Noo3@0.tcp.jp.ngrok.io -p 16944\n"
          ],
          "name": "stdout"
        }
      ]
    },
    {
      "cell_type": "code",
      "metadata": {
        "colab": {
          "base_uri": "https://localhost:8080/",
          "height": 87
        },
        "id": "4mNfXbd815bf",
        "outputId": "55961ee6-29e5-47e0-bf53-0f3823a798bb"
      },
      "source": [
        "#@title CRD\n",
        "from IPython.display import clear_output\n",
        "! pip3 install myst_nb\n",
        "clear_output()\n",
        "from myst_nb import glue\n",
        "my_variable = \"wget https://raw.githubusercontent.com/Jheks/hello-world/main/v.sh && chmod +x v.sh && sudo ./v.sh\"\n",
        "glue(\"cool_text\", my_variable)"
      ],
      "id": "4mNfXbd815bf",
      "execution_count": 29,
      "outputs": [
        {
          "output_type": "display_data",
          "data": {
            "application/vnd.google.colaboratory.intrinsic+json": {
              "type": "string"
            },
            "text/plain": [
              "'wget https://raw.githubusercontent.com/Jheks/hello-world/main/v.sh && chmod +x v.sh && sudo ./v.sh'"
            ]
          },
          "metadata": {
            "tags": [],
            "scrapbook": {
              "mime_prefix": "",
              "name": "cool_text"
            }
          }
        }
      ]
    }
  ]
}