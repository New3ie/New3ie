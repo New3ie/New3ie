{
  "nbformat": 4,
  "nbformat_minor": 5,
  "metadata": {
    "colab": {
      "name": "bionic.ipynb",
      "provenance": [],
      "include_colab_link": true
    },
    "kernelspec": {
      "display_name": "Python 3",
      "language": "python",
      "name": "python3"
    },
    "language_info": {
      "codemirror_mode": {
        "name": "ipython",
        "version": 3
      },
      "file_extension": ".py",
      "mimetype": "text/x-python",
      "name": "python",
      "nbconvert_exporter": "python",
      "pygments_lexer": "ipython3",
      "version": "3.9.5"
    }
  },
  "cells": [
    {
      "cell_type": "markdown",
      "metadata": {
        "id": "view-in-github",
        "colab_type": "text"
      },
      "source": [
        "<a href=\"https://colab.research.google.com/github/New3ie/New3ie/blob/main/bionic.ipynb\" target=\"_parent\"><img src=\"https://colab.research.google.com/assets/colab-badge.svg\" alt=\"Open In Colab\"/></a>"
      ]
    },
    {
      "cell_type": "code",
      "metadata": {
        "id": "72710593",
        "colab": {
          "base_uri": "https://localhost:8080/"
        },
        "cellView": "form",
        "outputId": "00f78aa3-4d00-4098-be66-3397aa6a52d4"
      },
      "source": [
        "#@title user\n",
        "import os \n",
        "from IPython.display import clear_output\n",
        "username = 'Noo3' #@param {type:'string'}\n",
        "password = 'root' #@param {type:'string'}            \n",
        "print('Membuat user...')\n",
        "# Membuat user\n",
        "os.system(f'useradd -m {username}')                  \n",
        "# Menambahkan user ke sudo                           \n",
        "os.system(f'adduser {username} sudo')                \n",
        "# Set password user ke root\n",
        "os.system(f\"echo '{username}:{password}' | sudo chpasswd\")\n",
        "                                                     \n",
        "# Merubah default shell dr sh ke bash                \n",
        "os.system(\"sed -i 's/\\/bin\\/sh/\\/bin\\/bash/g' /etc/passwd\")\n",
        "clear_output()\n",
        "print('User dibuat') \n",
        "#@title\n",
        "#@title *ssh*\n",
        "! pip install colab_ssh --upgrade &&> /dev/null\n",
        " \n",
        "Ngrok = True #@param {type:'boolean'}\n",
        "region = '' #@param[ \"us \", \"eu \",\"ap \",\"au \",\"sa \",\"jp \",\"in \"]\n",
        "ngrokToken = '' #@param {type:'string'}\n",
        "Agro = False  #@param {type:'boolean'}\n",
        " \n",
        "def runNgrok():\n",
        "    from colab_ssh import launch_ssh\n",
        "    launch_ssh(ngrokToken, password, region=region)\n",
        "    clear_output()\n",
        "    print('ssh '+username, end='@')\n",
        "    ! curl -s http://localhost:4040/api/tunnels | python3 -c \\\n",
        "            \"import sys, json; x = str(json.load(sys.stdin)['tunnels'][0]['public_url'][6:].replace(':', ' -p ')); print(f'''{x}''')\"\n",
        " \n",
        "    \n",
        "            \n",
        "def runAgro():\n",
        "    from colab_ssh import launch_ssh_cloudflared\n",
        "    launch_ssh_cloudflared(password=password)\n",
        " \n",
        " \n",
        "try:\n",
        "    if username:\n",
        "        pass\n",
        "    elif password:\n",
        "        pass\n",
        "except NameError:\n",
        "    print(\"No user found using username and password as 'root'\")\n",
        "    username='root'\n",
        "    password='root'\n",
        " \n",
        " \n",
        "if Agro and Ngrok:\n",
        "    print(\"You can't do that\")\n",
        "    print(\"Select only one of them\")\n",
        "elif Agro:\n",
        "    runAgro()\n",
        "elif Ngrok:\n",
        "    if ngrokToken == \"\":\n",
        "        print(\"No ngrokToken Found, Please enter it\")\n",
        "    else:\n",
        "               \n",
        "        runNgrok()\n",
        "else:\n",
        "    print(\"Select one of them\")\n",
        " \n",
        "try:\n",
        "    import time\n",
        "    while True:\n",
        "        time.sleep(300)\n",
        "except:\n",
        "    pass"
      ],
      "id": "72710593",
      "execution_count": 4,
      "outputs": [
        {
          "output_type": "stream",
          "text": [
            "ssh Noo3@0.tcp.ap.ngrok.io -p 19841\n"
          ],
          "name": "stdout"
        }
      ]
    }
  ]
}
